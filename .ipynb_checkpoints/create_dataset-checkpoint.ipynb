{
 "cells": [
  {
   "cell_type": "code",
   "execution_count": 69,
   "id": "0ff82ebf",
   "metadata": {
    "scrolled": true
   },
   "outputs": [],
   "source": [
    "import urllib\n",
    "import xml.etree.ElementTree as ET\n",
    "import pandas as pd\n",
    "import numpy as np\n",
    "\n",
    "import matplotlib.pyplot as plt\n",
    "\n",
    "\n",
    "from model import get_embedding"
   ]
  },
  {
   "cell_type": "code",
   "execution_count": 30,
   "id": "0ee80866",
   "metadata": {},
   "outputs": [],
   "source": [
    "def fetch_papers():\n",
    "    \"\"\"Fetches papers from the arXiv API and returns them as a list of strings.\"\"\"\n",
    "\n",
    "    url = 'http://export.arxiv.org/api/query?search_query=ti:llama&start=0&max_results=70'\n",
    "    response = urllib.request.urlopen(url)\n",
    "    data = response.read().decode('utf-8')\n",
    "    root = ET.fromstring(data)\n",
    "\n",
    "    papers_list = []\n",
    "\n",
    "    for entry in root.findall('{http://www.w3.org/2005/Atom}entry'):\n",
    "        title = entry.find('{http://www.w3.org/2005/Atom}title').text\n",
    "        summary = entry.find('{http://www.w3.org/2005/Atom}summary').text\n",
    "        paper_info = f\"Title: {title}\\nSummary: {summary}\\n\"\n",
    "        papers_list.append(paper_info)\n",
    "\n",
    "    return papers_list"
   ]
  },
  {
   "cell_type": "code",
   "execution_count": 39,
   "id": "c0493090",
   "metadata": {},
   "outputs": [
    {
     "data": {
      "text/html": [
       "<div>\n",
       "<style scoped>\n",
       "    .dataframe tbody tr th:only-of-type {\n",
       "        vertical-align: middle;\n",
       "    }\n",
       "\n",
       "    .dataframe tbody tr th {\n",
       "        vertical-align: top;\n",
       "    }\n",
       "\n",
       "    .dataframe thead th {\n",
       "        text-align: right;\n",
       "    }\n",
       "</style>\n",
       "<table border=\"1\" class=\"dataframe\">\n",
       "  <thead>\n",
       "    <tr style=\"text-align: right;\">\n",
       "      <th></th>\n",
       "      <th>TitleAbstract</th>\n",
       "    </tr>\n",
       "  </thead>\n",
       "  <tbody>\n",
       "    <tr>\n",
       "      <th>0</th>\n",
       "      <td>Title: Lawyer LLaMA Technical Report\\nSummary:...</td>\n",
       "    </tr>\n",
       "    <tr>\n",
       "      <th>1</th>\n",
       "      <td>Title: Label Supervised LLaMA Finetuning\\nSumm...</td>\n",
       "    </tr>\n",
       "    <tr>\n",
       "      <th>2</th>\n",
       "      <td>Title: LLAMA: Leveraging Learning to Automatic...</td>\n",
       "    </tr>\n",
       "    <tr>\n",
       "      <th>3</th>\n",
       "      <td>Title: Challenges and opportunities integratin...</td>\n",
       "    </tr>\n",
       "    <tr>\n",
       "      <th>4</th>\n",
       "      <td>Title: LLaMA: Open and Efficient Foundation La...</td>\n",
       "    </tr>\n",
       "  </tbody>\n",
       "</table>\n",
       "</div>"
      ],
      "text/plain": [
       "                                       TitleAbstract\n",
       "0  Title: Lawyer LLaMA Technical Report\\nSummary:...\n",
       "1  Title: Label Supervised LLaMA Finetuning\\nSumm...\n",
       "2  Title: LLAMA: Leveraging Learning to Automatic...\n",
       "3  Title: Challenges and opportunities integratin...\n",
       "4  Title: LLaMA: Open and Efficient Foundation La..."
      ]
     },
     "execution_count": 39,
     "metadata": {},
     "output_type": "execute_result"
    }
   ],
   "source": [
    "papers_list = fetch_papers()\n",
    "df = pd.DataFrame(papers_list, columns=['TitleAbstract'])\n",
    "df.head()"
   ]
  },
  {
   "cell_type": "code",
   "execution_count": 43,
   "id": "5d59f910-ba5a-4fab-afd1-571ad1a1c4c8",
   "metadata": {},
   "outputs": [
    {
     "data": {
      "text/plain": [
       "2058"
      ]
     },
     "execution_count": 43,
     "metadata": {},
     "output_type": "execute_result"
    }
   ],
   "source": [
    "df['TitleAbstract'].apply(len).max()"
   ]
  },
  {
   "cell_type": "code",
   "execution_count": 44,
   "id": "313eb46e-d5d1-4137-874b-8e55bd3a2a1a",
   "metadata": {},
   "outputs": [
    {
     "data": {
      "text/plain": [
       "1131"
      ]
     },
     "execution_count": 44,
     "metadata": {},
     "output_type": "execute_result"
    }
   ],
   "source": [
    "import re\n",
    "def remove_linebreaks(input_string):\n",
    "    \"\"\"Removes linebreaks and tabs from string using regular expression.\"\"\"\n",
    "    cleaned_string = re.sub(r'[\\n\\t]', ' ', input_string)\n",
    "    return cleaned_string\n",
    "    \n",
    "df['TitleAbstract'] = df['TitleAbstract'].apply(remove_linebreaks)\n",
    "\n",
    "import spacy\n",
    "def extract_keywords(text):\n",
    "    # Load the spaCy NLP model\n",
    "    nlp = spacy.load(\"en_core_web_sm\")\n",
    "\n",
    "    # Process the text using spaCy\n",
    "    doc = nlp(text)\n",
    "\n",
    "    # Extract keywords (nouns and adjectives)\n",
    "    keywords = [token.text for token in doc if token.pos_ in [\"NOUN\", \"ADJ\"]]\n",
    "    keywords = \" \".join(keywords)\n",
    "    \n",
    "    return keywords\n",
    "\n",
    "df['KeyWords'] = df['TitleAbstract'].apply(extract_keywords)\n",
    "\n",
    "df['KeyWords'].apply(len).max()"
   ]
  },
  {
   "cell_type": "code",
   "execution_count": 70,
   "id": "db61c6d5-10b1-4fbb-aba5-af0566031877",
   "metadata": {},
   "outputs": [],
   "source": [
    "# Calculate embedding for all papers\n",
    "df['Embedding'] = df['TitleAbstract'].apply(get_embedding)"
   ]
  },
  {
   "cell_type": "code",
   "execution_count": 76,
   "id": "25ab1ac4-1544-461d-9433-3c49ef7a4134",
   "metadata": {},
   "outputs": [],
   "source": [
    "df.to_csv('df_papers_llama2.csv')\n",
    "np.save('Embeddings.npy', df['Embedding'])"
   ]
  },
  {
   "cell_type": "code",
   "execution_count": null,
   "id": "f88c79b7-6e87-4b6a-8c69-3220db06bf38",
   "metadata": {},
   "outputs": [],
   "source": []
  }
 ],
 "metadata": {
  "kernelspec": {
   "display_name": "Python 3 (ipykernel)",
   "language": "python",
   "name": "python3"
  },
  "language_info": {
   "codemirror_mode": {
    "name": "ipython",
    "version": 3
   },
   "file_extension": ".py",
   "mimetype": "text/x-python",
   "name": "python",
   "nbconvert_exporter": "python",
   "pygments_lexer": "ipython3",
   "version": "3.10.13"
  }
 },
 "nbformat": 4,
 "nbformat_minor": 5
}
